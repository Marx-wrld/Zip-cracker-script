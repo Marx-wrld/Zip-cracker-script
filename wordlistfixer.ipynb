{
 "cells": [
  {
   "cell_type": "code",
   "execution_count": null,
   "id": "da8992e7",
   "metadata": {},
   "outputs": [],
   "source": [
    "import codecs"
   ]
  },
  {
   "cell_type": "code",
   "execution_count": 1,
   "id": "72c11d53",
   "metadata": {},
   "outputs": [
    {
     "name": "stdout",
     "output_type": "stream",
     "text": [
      "Path to wordlist: rockyou1.txt\n",
      "Currently fixing line: 22 / 22\n",
      "Output to: Fixed-rockyou1.txt\n"
     ]
    }
   ],
   "source": [
    "input_file_path = input(\"Path to wordlist: \")\n",
    "output_file_path = \"Fixed-\" + input_file_path\n",
    "\n",
    "# Count the total number of lines in the input file\n",
    "with open(input_file_path, 'r', encoding='utf-8', errors='ignore') as f:\n",
    "    total_lines = sum(1 for line in f)\n",
    "    f.close()\n",
    "\n",
    "# Open the input and output files\n",
    "with codecs.open(input_file_path, 'r', 'utf-8', errors='ignore') as input_file, \\\n",
    "     codecs.open(output_file_path, 'w', 'utf-8') as output_file:\n",
    "\n",
    "    # Iterate over each line in the input file and write to the output file\n",
    "    for i, line in enumerate(input_file, 1):\n",
    "        # Check if the line contains any invalid UTF-8 characters\n",
    "        try:\n",
    "            line.encode('utf-8').decode('utf-8')\n",
    "        except UnicodeDecodeError:\n",
    "            # If the line contains non-valid UTF-8 characters, skip it\n",
    "            continue\n",
    "\n",
    "        # If the line is valid UTF-8, write it to the output file\n",
    "        output_file.write(line)\n",
    "\n",
    "        # Print the current line number and the total number of lines\n",
    "        print(f\"Currently fixing line: {i} / {total_lines}\", end='\\r', flush=True)\n",
    "        \n",
    "print(f\"\\nOutput to: {output_file_path}\")"
   ]
  },
  {
   "cell_type": "code",
   "execution_count": null,
   "id": "37072a6f",
   "metadata": {},
   "outputs": [],
   "source": []
  }
 ],
 "metadata": {
  "kernelspec": {
   "display_name": "Python 3 (ipykernel)",
   "language": "python",
   "name": "python3"
  },
  "language_info": {
   "codemirror_mode": {
    "name": "ipython",
    "version": 3
   },
   "file_extension": ".py",
   "mimetype": "text/x-python",
   "name": "python",
   "nbconvert_exporter": "python",
   "pygments_lexer": "ipython3",
   "version": "3.10.4"
  }
 },
 "nbformat": 4,
 "nbformat_minor": 5
}
