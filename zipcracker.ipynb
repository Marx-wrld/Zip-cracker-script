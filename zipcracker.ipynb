{
 "cells": [
  {
   "cell_type": "code",
   "execution_count": 1,
   "id": "1129f087",
   "metadata": {},
   "outputs": [],
   "source": [
    "import zipfile\n",
    "import time"
   ]
  },
  {
   "cell_type": "code",
   "execution_count": 6,
   "id": "959c6815",
   "metadata": {},
   "outputs": [
    {
     "name": "stdout",
     "output_type": "stream",
     "text": [
      "Progress: [0/8]Enter the path to the ZIP file: protected.zip\n",
      "Progress: [0/8]Enter the path to the wordlist: rockyou1.txt\n",
      "Progress: [0/8][1] [-] Password failed! - 123456\n",
      "Progress: [0/8][2] [-] Password failed! - 12345\n",
      "[3] [-] Password failed! - 123456789\n",
      "[4] [-] Password failed! - password\n",
      "[5] [-] Password failed! - iloveyou\n",
      "[6] [-] Password failed! - princess\n",
      "[7] [-] Password failed! - 1234567\n",
      "[8] [-] Password failed! - rockyou\n",
      "Password not found.\n",
      "Progress: [0/8]"
     ]
    }
   ],
   "source": [
    "def crack_zip(zip_file_path, wordlist_path):\n",
    "    try:\n",
    "        with open(wordlist_path, 'r', encoding='utf-8', errors='ignore') as wordlist_file:\n",
    "            for count, password in enumerate(wordlist_file, 1):\n",
    "                password = password.strip()\n",
    "                try:\n",
    "                    with zipfile.ZipFile(zip_file_path, 'r') as zf:\n",
    "                        zf.extractall(pwd=password.encode('utf-8'))\n",
    "                        data = zf.namelist()[0]\n",
    "                        data_size = zf.getinfo(data).file_size\n",
    "\n",
    "                        print('''******************************\\n[+] Password found! ~ %s\\n ~%s\\n ~%s\\n******************************''' \n",
    "                            % (password, data, data_size))\n",
    "                        return True\n",
    "\n",
    "                except zipfile.BadZipFile:\n",
    "                    print(\"Invalid ZIP file.\")\n",
    "                    return False\n",
    "\n",
    "                except Exception as e:\n",
    "                    print('[%d] [-] Password failed! - %s' % (count, password))\n",
    "                    continue\n",
    "    except FileNotFoundError:\n",
    "        print(\"Wordlist file not found.\")\n",
    "    except Exception as e:\n",
    "        print(\"An error occurred:\", str(e))\n",
    "\n",
    "    return False\n",
    "\n",
    "if __name__ == \"__main__\":\n",
    "    zip_file_path = input(\"Enter the path to the ZIP file: \")\n",
    "    wordlist_path = input(\"Enter the path to the wordlist: \")\n",
    "\n",
    "    start_time = time.time()\n",
    "\n",
    "    if crack_zip(zip_file_path, wordlist_path):\n",
    "        end_time = time.time()\n",
    "        print('Password found in {:.2f} seconds.'.format(end_time - start_time))\n",
    "    else:\n",
    "        print('Password not found.')"
   ]
  },
  {
   "cell_type": "code",
   "execution_count": null,
   "id": "7c994560",
   "metadata": {},
   "outputs": [],
   "source": []
  }
 ],
 "metadata": {
  "kernelspec": {
   "display_name": "Python 3 (ipykernel)",
   "language": "python",
   "name": "python3"
  },
  "language_info": {
   "codemirror_mode": {
    "name": "ipython",
    "version": 3
   },
   "file_extension": ".py",
   "mimetype": "text/x-python",
   "name": "python",
   "nbconvert_exporter": "python",
   "pygments_lexer": "ipython3",
   "version": "3.10.4"
  }
 },
 "nbformat": 4,
 "nbformat_minor": 5
}
